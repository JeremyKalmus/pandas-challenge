{
 "metadata": {
  "language_info": {
   "codemirror_mode": {
    "name": "ipython",
    "version": 3
   },
   "file_extension": ".py",
   "mimetype": "text/x-python",
   "name": "python",
   "nbconvert_exporter": "python",
   "pygments_lexer": "ipython3",
   "version": "3.8.5-final"
  },
  "orig_nbformat": 2,
  "kernelspec": {
   "name": "Python 3.8.5 64-bit ('datavizprod': conda)",
   "display_name": "Python 3.8.5 64-bit ('datavizprod': conda)",
   "metadata": {
    "interpreter": {
     "hash": "b029dc0bf375b8998aa9027efd27666008bdbb4778f20a5670bf71af495827aa"
    }
   }
  }
 },
 "nbformat": 4,
 "nbformat_minor": 2,
 "cells": [
  {
   "cell_type": "code",
   "execution_count": 196,
   "metadata": {},
   "outputs": [
    {
     "output_type": "stream",
     "name": "stdout",
     "text": [
      "\n: boolean\n    use_inf_as_null had been deprecated and will be removed in a future\n    version. Use `use_inf_as_na` instead.\n\n"
     ]
    }
   ],
   "source": [
    "#import Dependencies\n",
    "import pandas as pd\n",
    "import os\n",
    "import matplotlib.pyplot as plt\n",
    "pd.reset_option(\"all\")\n"
   ]
  },
  {
   "cell_type": "code",
   "execution_count": 197,
   "metadata": {},
   "outputs": [],
   "source": [
    "#create a varialbe for the file\n",
    "file = \"purchase_data.csv\""
   ]
  },
  {
   "cell_type": "code",
   "execution_count": 210,
   "metadata": {},
   "outputs": [],
   "source": [
    "#import and view the first 5 lines of the data file\n",
    "purchase_data_df = pd.read_csv(file)\n"
   ]
  },
  {
   "cell_type": "code",
   "execution_count": 199,
   "metadata": {},
   "outputs": [],
   "source": [
    "#get player count\n",
    "#break to a new df with only the data we need\n",
    "player_count_df = purchase_data_df.copy()[\"SN\"]\n",
    "#count unique Screen Names\n",
    "player_count = player_count_df.nunique()\n"
   ]
  },
  {
   "cell_type": "code",
   "execution_count": 200,
   "metadata": {},
   "outputs": [],
   "source": [
    "#Purchasting Analysis(Total)\n",
    "#Number of Unique Items\n",
    "number_items_df = purchase_data_df.copy()[\"Item Name\"]\n",
    "number_items = number_items_df.nunique()\n",
    "\n",
    "#Average Purchase Price\n",
    "average_purcahse_df = purchase_data_df.copy()[\"Price\"]\n",
    "average_purchase = average_purcahse_df.mean()\n",
    "\n",
    "#Total Number of Purchases\n",
    "\n",
    "total_num_purchases_df = purchase_data_df.copy()[\"Purchase ID\"]\n",
    "total_num_purchases = total_num_purchases_df.count()\n",
    "\n",
    "#Total Revenue\n",
    "total_rev_df = purchase_data_df.copy()[\"Price\"]\n",
    "total_rev = total_rev_df.sum()\n",
    "\n"
   ]
  },
  {
   "cell_type": "code",
   "execution_count": 201,
   "metadata": {},
   "outputs": [],
   "source": [
    "#Gender Demographics\n",
    "#Percentage and Count of Male Players\n",
    "male_count = purchase_data_df.copy().loc[purchase_data_df.copy()[\"Gender\"] == 'Male',:].count()\n",
    "male_count = male_count[\"Gender\"]\n",
    "male_percent = male_count/player_count\n",
    "male_percent = \"{:.2%}\".format(male_percent)\n",
    "\n",
    "#Percentage and Count of Female Players\n",
    "female_count = purchase_data_df.copy().loc[purchase_data_df.copy()[\"Gender\"] == 'Female',:].count()\n",
    "female_count = female_count[\"Gender\"]\n",
    "female_percent = female_count/player_count\n",
    "female_percent = \"{:.2%}\".format(female_percent)\n",
    "\n",
    "#Percentage and Count of Other / Non-Disclosed\n",
    "other_count = purchase_data_df.copy().loc[purchase_data_df.copy()[\"Gender\"] == 'Other / Non-Disclosed',:].count()\n",
    "other_count = other_count[\"Gender\"]\n",
    "other_percent = other_count/player_count\n",
    "other_percent = \"{:.2%}\".format(other_percent)\n"
   ]
  },
  {
   "cell_type": "code",
   "execution_count": 228,
   "metadata": {},
   "outputs": [
    {
     "output_type": "execute_result",
     "data": {
      "text/plain": [
       "                       Number of Purchases  Average Purchase  Total Purchase  \\\n",
       "Gender                                                                         \n",
       "Female                                 113          3.203009          361.94   \n",
       "Male                                   652          3.017853         1967.64   \n",
       "Other / Non-Disclosed                   15          3.346000           50.19   \n",
       "\n",
       "                       Average Per Person by Gender  \n",
       "Gender                                               \n",
       "Female                                     0.008850  \n",
       "Male                                       0.001534  \n",
       "Other / Non-Disclosed                      0.066667  "
      ],
      "text/html": "<div>\n<style scoped>\n    .dataframe tbody tr th:only-of-type {\n        vertical-align: middle;\n    }\n\n    .dataframe tbody tr th {\n        vertical-align: top;\n    }\n\n    .dataframe thead th {\n        text-align: right;\n    }\n</style>\n<table border=\"1\" class=\"dataframe\">\n  <thead>\n    <tr style=\"text-align: right;\">\n      <th></th>\n      <th>Number of Purchases</th>\n      <th>Average Purchase</th>\n      <th>Total Purchase</th>\n      <th>Average Per Person by Gender</th>\n    </tr>\n    <tr>\n      <th>Gender</th>\n      <th></th>\n      <th></th>\n      <th></th>\n      <th></th>\n    </tr>\n  </thead>\n  <tbody>\n    <tr>\n      <th>Female</th>\n      <td>113</td>\n      <td>3.203009</td>\n      <td>361.94</td>\n      <td>0.008850</td>\n    </tr>\n    <tr>\n      <th>Male</th>\n      <td>652</td>\n      <td>3.017853</td>\n      <td>1967.64</td>\n      <td>0.001534</td>\n    </tr>\n    <tr>\n      <th>Other / Non-Disclosed</th>\n      <td>15</td>\n      <td>3.346000</td>\n      <td>50.19</td>\n      <td>0.066667</td>\n    </tr>\n  </tbody>\n</table>\n</div>"
     },
     "metadata": {},
     "execution_count": 228
    }
   ],
   "source": [
    "#Purchasing Analysis (Gender)\n",
    "#The below each broken by gender\n",
    "gender_grouped_df = purchase_data_df.copy().groupby([\"Gender\"])\n",
    "#Purchase Count\n",
    "purchase_by_gender = gender_grouped_df[\"Purchase ID\"].count()\n",
    "\n",
    "#Average Purchase Price\n",
    "average_by_gender = gender_grouped_df[\"Price\"].mean()\n",
    "\n",
    "#Total Purchase Value\n",
    "total_by_gender = gender_grouped_df[\"Price\"].sum()\n",
    "\n",
    "#Average Purchase Total per Person by Gender\n",
    "average_per_person_by_gender = \n",
    "\n",
    "#Summary DF\n",
    "gender_purcahse_summary = pd.DataFrame({\"Number of Purchases\": purchase_by_gender,\"Average Purchase\": average_by_gender, \"Total Purchase\": total_by_gender, \"Average Per Person by Gender\": average_per_person_by_gender})\n",
    "gender_purcahse_summary"
   ]
  },
  {
   "cell_type": "code",
   "execution_count": 298,
   "metadata": {},
   "outputs": [
    {
     "output_type": "execute_result",
     "data": {
      "text/plain": [
       "       Top 5 Users    Puchase Count Average Purchase Price  \\\n",
       "0  (P, r, i, c, e)  (P, r, i, c, e)        (P, r, i, c, e)   \n",
       "\n",
       "  Total Purchase Value for Each  \n",
       "0               (P, r, i, c, e)  "
      ],
      "text/html": "<div>\n<style scoped>\n    .dataframe tbody tr th:only-of-type {\n        vertical-align: middle;\n    }\n\n    .dataframe tbody tr th {\n        vertical-align: top;\n    }\n\n    .dataframe thead th {\n        text-align: right;\n    }\n</style>\n<table border=\"1\" class=\"dataframe\">\n  <thead>\n    <tr style=\"text-align: right;\">\n      <th></th>\n      <th>Top 5 Users</th>\n      <th>Puchase Count</th>\n      <th>Average Purchase Price</th>\n      <th>Total Purchase Value for Each</th>\n    </tr>\n  </thead>\n  <tbody>\n    <tr>\n      <th>0</th>\n      <td>(P, r, i, c, e)</td>\n      <td>(P, r, i, c, e)</td>\n      <td>(P, r, i, c, e)</td>\n      <td>(P, r, i, c, e)</td>\n    </tr>\n  </tbody>\n</table>\n</div>"
     },
     "metadata": {},
     "execution_count": 298
    }
   ],
   "source": [
    "#Top Spenders\n",
    "#Identify the the top 5 spenders in the game by total purchase value, then list (in a table):\n",
    "\n",
    "#SN\n",
    "top_5 = purchase_data_df.copy()[[\"SN\", \"Price\"]]\n",
    "top_5 = top_5.groupby([\"SN\"]).sum().nlargest(5, [\"Price\"])\n",
    "\n",
    "#Purchase Count\n",
    "top_5_num_purchase = purchase_data_df.copy()[[\"SN\", \"Price\"]]\n",
    "top_5_num_purchase = top_5_num_purchase.groupby([\"SN\"]).count().sort_values(\"Price\", ascending=False).head(5)\n",
    "\n",
    "#Average Purchase Price\n",
    "top_5_ave_purch = purchase_data_df.copy()[[\"SN\", \"Price\"]]\n",
    "top_5_ave_purch = top_5_ave_purch.groupby([\"SN\"]).mean().sort_values(\"Price\", ascending=False).head(5)\n",
    "#Total Purchase Value\n",
    "top_5_total = purchase_data_df.copy()[[\"SN\", \"Price\"]]\n",
    "top_5_total = top_5_total.groupby([\"SN\"]).sum().sort_values(\"Price\", ascending=False).head(5)\n",
    "\n",
    "\n",
    "\n",
    "top_5_purch_summary = pd.DataFrame({\"Top 5 Users\": top_5, \"Puchase Count\": top_5_num_purchase, \"Average Purchase Price\": top_5_ave_purch, \"Total Purchase Value for Each\": top_5_total}, index=[0])\n",
    "top_5_purch_summary"
   ]
  },
  {
   "cell_type": "code",
   "execution_count": null,
   "metadata": {},
   "outputs": [],
   "source": []
  },
  {
   "cell_type": "code",
   "execution_count": null,
   "metadata": {},
   "outputs": [],
   "source": []
  },
  {
   "cell_type": "code",
   "execution_count": null,
   "metadata": {},
   "outputs": [],
   "source": []
  },
  {
   "cell_type": "code",
   "execution_count": null,
   "metadata": {},
   "outputs": [],
   "source": []
  },
  {
   "cell_type": "code",
   "execution_count": null,
   "metadata": {},
   "outputs": [],
   "source": []
  },
  {
   "cell_type": "code",
   "execution_count": 203,
   "metadata": {},
   "outputs": [
    {
     "output_type": "stream",
     "name": "stdout",
     "text": [
      "\nHeroes of Pymoli Analysis\n--------------------------\nPlayer Count\nTotal Number of Players: 576\n\nPurchasing Analysis (Total)\nNumber of Unique Items: 179\nAverage Purchase Price: $3.05\nTotal Number of Purchases: 780\nTotal Revenue: $2379.77\n\nGender Demographics\nPercentage and Count of Male Players: 652 players identify as Male, 113.19% of all players\nPercentage and Count of Female Players: 113 players identify as Female, 19.62% of all players\nPercentage and Count of Other / Non-Disclosed: 15 players identify as Other or Non-Disclose, 2.60% of all players\n\n                       Number of Purchases  Average Purchase  Total Purchase  \\\nGender                                                                         \nFemale                                 113          3.203009          361.94   \nMale                                   652          3.017853         1967.64   \nOther / Non-Disclosed                   15          3.346000           50.19   \n\n                       Average Per Person by Gender  \nGender                                               \nFemale                                     3.203009  \nMale                                       3.017853  \nOther / Non-Disclosed                      3.346000  \n\n\n\n\n\n\n\n\n\n\n\n\n\n\n\n\n\n\n\n\n\n\n\n\n\n"
     ]
    }
   ],
   "source": [
    "#Print Analysis\n",
    "print(\"\")\n",
    "print(f\"Heroes of Pymoli Analysis\")\n",
    "print(f\"--------------------------\")\n",
    "print(f\"Player Count\")\n",
    "print(f\"Total Number of Players: {player_count}\")\n",
    "print(f\"\")\n",
    "print(f\"Purchasing Analysis (Total)\")\n",
    "print(f\"Number of Unique Items: {number_items}\")\n",
    "print(\"Average Purchase Price: ${:,.3}\".format(average_purchase))\n",
    "print(f\"Total Number of Purchases: {total_num_purchases}\")\n",
    "print(f\"Total Revenue: ${total_rev}\")\n",
    "print(f\"\")\n",
    "print(f\"Gender Demographics\")\n",
    "print(\"Percentage and Count of Male Players: {} players identify as Male, {} of all players\".format(male_count, male_percent))\n",
    "print(\"Percentage and Count of Female Players: {} players identify as Female, {} of all players\".format(female_count, female_percent))\n",
    "print(\"Percentage and Count of Other / Non-Disclosed: {} players identify as Other or Non-Disclose, {} of all players\".format(other_count, other_percent))\n",
    "print(\"\")\n",
    "print(\"{}\".format(gender_purcahse_summary))\n",
    "print(\"\")\n",
    "print(\"\")\n",
    "print(\"\")\n",
    "print(\"\")\n",
    "print(\"\")\n",
    "print(\"\")\n",
    "print(\"\")\n",
    "print(\"\")\n",
    "print(\"\")\n",
    "print(\"\")\n",
    "print(\"\")\n",
    "print(\"\")\n",
    "print(\"\")\n",
    "print(\"\")\n",
    "print(\"\")\n",
    "print(\"\")\n",
    "print(\"\")\n",
    "print(\"\")\n",
    "print(\"\")\n",
    "print(\"\")\n",
    "print(\"\")\n",
    "print(\"\")\n",
    "print(\"\")\n",
    "print(\"\")\n",
    "print(\"\")"
   ]
  },
  {
   "cell_type": "code",
   "execution_count": 204,
   "metadata": {},
   "outputs": [
    {
     "output_type": "execute_result",
     "data": {
      "text/plain": [
       "1"
      ]
     },
     "metadata": {},
     "execution_count": 204
    }
   ],
   "source": [
    "#create txt. file with analysis\n",
    "f = open(\"Heroes of Pymoli Analysis.txt\", \"w+\")\n",
    "f.write(\" \"+ '\\n')\n",
    "f.write(\"Heroes of Pymoli Analysis\"+ '\\n')\n",
    "f.write(\"--------------------------\"+ '\\n')\n",
    "f.write(\"Player Count\"+ \"/n\")\n",
    "f.write(f\"Total Number of Players: {player_count}\"+ '\\n')\n",
    "f.write(\" \" + \"/n\")\n",
    "f.write(\"Purchasing Analysis (Total)\"+ '\\n')\n",
    "f.write(f\"Number of Unique Items: {number_items}\"+ '\\n')\n",
    "f.write(\"Average Purchase Price: ${:,.3}\".format(average_purchase) + '\\n')\n",
    "f.write(f\"Total Number of Purchases: {total_num_purchases}\"+ '\\n')\n",
    "f.write(f\"Total Revenue: ${total_rev}\"+ '\\n')\n",
    "f.write(f\" \" + '\\n')\n",
    "f.write(f\"Gender Demographics\"+ '\\n')\n",
    "f.write(\"Percentage and Count of Male Players: {} players idendify as Male, {} of all players\".format(male_count, male_percent) + '\\n')\n",
    "f.write(\"Percentage and Count of Female Players: {} players idendify as Female, {} of all players\".format(female_count, female_percent) + '\\n')\n",
    "f.write(\"Percentage and Count of Other / Non-Disclosed: {} players idendify as Other or Non-Disclose, {} of all players\".format(other_count, other_percent) + '\\n')\n",
    "f.write(f\" \" + '\\n')\n",
    "f.write(f\"Purchasing Analysis (Gender)\" + '\\n')\n",
    "f.write(\"{}\".format(gender_purcahse_summary))\n",
    "f.write(f\"\" + '\\n')\n",
    "f.write(f\"\" + '\\n')\n",
    "f.write(f\"\" + '\\n')\n",
    "f.write(f\"\" + '\\n')\n",
    "f.write(f\"\" + '\\n')\n",
    "f.write(f\"\" + '\\n')\n",
    "f.write(f\"\" + '\\n')\n",
    "f.write(f\"\" + '\\n')\n",
    "f.write(f\"\" + '\\n')\n",
    "f.write(f\"\" + '\\n')\n",
    "f.write(f\"\" + '\\n')\n",
    "f.write(f\"\" + '\\n')\n",
    "f.write(f\"\" + '\\n')\n",
    "f.write(f\"\" + '\\n')\n",
    "\n",
    "\n"
   ]
  },
  {
   "cell_type": "code",
   "execution_count": null,
   "metadata": {},
   "outputs": [],
   "source": []
  }
 ]
}