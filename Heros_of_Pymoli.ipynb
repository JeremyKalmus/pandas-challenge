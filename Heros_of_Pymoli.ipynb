{
 "metadata": {
  "language_info": {
   "codemirror_mode": {
    "name": "ipython",
    "version": 3
   },
   "file_extension": ".py",
   "mimetype": "text/x-python",
   "name": "python",
   "nbconvert_exporter": "python",
   "pygments_lexer": "ipython3",
   "version": "3.8.5-final"
  },
  "orig_nbformat": 2,
  "kernelspec": {
   "name": "Python 3.8.5 64-bit ('datavizprod': conda)",
   "display_name": "Python 3.8.5 64-bit ('datavizprod': conda)",
   "metadata": {
    "interpreter": {
     "hash": "b029dc0bf375b8998aa9027efd27666008bdbb4778f20a5670bf71af495827aa"
    }
   }
  }
 },
 "nbformat": 4,
 "nbformat_minor": 2,
 "cells": [
  {
   "cell_type": "code",
   "execution_count": 1,
   "metadata": {},
   "outputs": [],
   "source": [
    "#import Dependencies\n",
    "import pandas as pd\n",
    "import os"
   ]
  },
  {
   "cell_type": "code",
   "execution_count": 2,
   "metadata": {},
   "outputs": [],
   "source": [
    "#create a varialbe for the file\n",
    "file = \"purchase_data.csv\""
   ]
  },
  {
   "cell_type": "code",
   "execution_count": 3,
   "metadata": {},
   "outputs": [
    {
     "output_type": "execute_result",
     "data": {
      "text/plain": [
       "   Purchase ID             SN  Age Gender  Item ID  \\\n",
       "0            0        Lisim78   20   Male      108   \n",
       "1            1    Lisovynya38   40   Male      143   \n",
       "2            2     Ithergue48   24   Male       92   \n",
       "3            3  Chamassasya86   24   Male      100   \n",
       "4            4      Iskosia90   23   Male      131   \n",
       "\n",
       "                                   Item Name  Price  \n",
       "0  Extraction, Quickblade Of Trembling Hands   3.53  \n",
       "1                          Frenzied Scimitar   1.56  \n",
       "2                               Final Critic   4.88  \n",
       "3                                Blindscythe   3.27  \n",
       "4                                       Fury   1.44  "
      ],
      "text/html": "<div>\n<style scoped>\n    .dataframe tbody tr th:only-of-type {\n        vertical-align: middle;\n    }\n\n    .dataframe tbody tr th {\n        vertical-align: top;\n    }\n\n    .dataframe thead th {\n        text-align: right;\n    }\n</style>\n<table border=\"1\" class=\"dataframe\">\n  <thead>\n    <tr style=\"text-align: right;\">\n      <th></th>\n      <th>Purchase ID</th>\n      <th>SN</th>\n      <th>Age</th>\n      <th>Gender</th>\n      <th>Item ID</th>\n      <th>Item Name</th>\n      <th>Price</th>\n    </tr>\n  </thead>\n  <tbody>\n    <tr>\n      <th>0</th>\n      <td>0</td>\n      <td>Lisim78</td>\n      <td>20</td>\n      <td>Male</td>\n      <td>108</td>\n      <td>Extraction, Quickblade Of Trembling Hands</td>\n      <td>3.53</td>\n    </tr>\n    <tr>\n      <th>1</th>\n      <td>1</td>\n      <td>Lisovynya38</td>\n      <td>40</td>\n      <td>Male</td>\n      <td>143</td>\n      <td>Frenzied Scimitar</td>\n      <td>1.56</td>\n    </tr>\n    <tr>\n      <th>2</th>\n      <td>2</td>\n      <td>Ithergue48</td>\n      <td>24</td>\n      <td>Male</td>\n      <td>92</td>\n      <td>Final Critic</td>\n      <td>4.88</td>\n    </tr>\n    <tr>\n      <th>3</th>\n      <td>3</td>\n      <td>Chamassasya86</td>\n      <td>24</td>\n      <td>Male</td>\n      <td>100</td>\n      <td>Blindscythe</td>\n      <td>3.27</td>\n    </tr>\n    <tr>\n      <th>4</th>\n      <td>4</td>\n      <td>Iskosia90</td>\n      <td>23</td>\n      <td>Male</td>\n      <td>131</td>\n      <td>Fury</td>\n      <td>1.44</td>\n    </tr>\n  </tbody>\n</table>\n</div>"
     },
     "metadata": {},
     "execution_count": 3
    }
   ],
   "source": [
    "#import and view the first 5 lines of the data file\n",
    "purchase_data_df = pd.read_csv(file)\n",
    "purchase_data_df.head()"
   ]
  },
  {
   "cell_type": "code",
   "execution_count": 9,
   "metadata": {},
   "outputs": [],
   "source": [
    "#get player count\n",
    "#break to a new df with only the data we need\n",
    "player_count_df = purchase_data_df.copy()[\"SN\"]\n",
    "#count unique Screen Names\n",
    "player_count = player_count_df.nunique()\n"
   ]
  },
  {
   "cell_type": "code",
   "execution_count": 31,
   "metadata": {},
   "outputs": [],
   "source": [
    "#Purchasting Analysis(Total)\n",
    "#Number of Unique Items\n",
    "number_items_df = purchase_data_df.copy()[\"Item Name\"]\n",
    "number_items = number_items_df.nunique()\n",
    "\n",
    "#Average Purchase Price\n",
    "average_purcahse_df = purchase_data_df.copy()[\"Price\"]\n",
    "average_purchase = average_purcahse_df.mean()\n",
    "\n",
    "#Total Number of Purchases\n",
    "\n",
    "total_num_purchases_df = purchase_data_df.copy()[\"Purchase ID\"]\n",
    "total_num_purchases = total_num_purchases_df.count()\n",
    "\n",
    "#Total Revenue\n",
    "total_rev_df = purchase_data_df.copy()[\"Price\"]\n",
    "total_rev = total_rev_df.sum()\n",
    "\n"
   ]
  },
  {
   "cell_type": "code",
   "execution_count": null,
   "metadata": {},
   "outputs": [],
   "source": []
  },
  {
   "cell_type": "code",
   "execution_count": null,
   "metadata": {},
   "outputs": [],
   "source": []
  },
  {
   "cell_type": "code",
   "execution_count": null,
   "metadata": {},
   "outputs": [],
   "source": []
  },
  {
   "cell_type": "code",
   "execution_count": null,
   "metadata": {},
   "outputs": [],
   "source": []
  },
  {
   "cell_type": "code",
   "execution_count": null,
   "metadata": {},
   "outputs": [],
   "source": []
  },
  {
   "cell_type": "code",
   "execution_count": null,
   "metadata": {},
   "outputs": [],
   "source": []
  },
  {
   "cell_type": "code",
   "execution_count": null,
   "metadata": {},
   "outputs": [],
   "source": []
  },
  {
   "cell_type": "code",
   "execution_count": null,
   "metadata": {},
   "outputs": [],
   "source": []
  },
  {
   "cell_type": "code",
   "execution_count": null,
   "metadata": {},
   "outputs": [],
   "source": []
  },
  {
   "cell_type": "code",
   "execution_count": null,
   "metadata": {},
   "outputs": [],
   "source": []
  },
  {
   "cell_type": "code",
   "execution_count": 32,
   "metadata": {},
   "outputs": [
    {
     "output_type": "stream",
     "name": "stdout",
     "text": [
      "\nHeroes of Pymoli Analysis\n--------------------------\nPlayer Count\nTotal Number of Players: 576\n\nPurchasing Analysis (Total)\nNumber of Unique Items: 179\nAverage Purchase Price: $3.05\nTotal Number of Purchases: 780\nTotal Revenue: $2379.77\n\n\n\n\n\n\n\n\n"
     ]
    }
   ],
   "source": [
    "#Print Analysis\n",
    "print(\"\")\n",
    "print(f\"Heroes of Pymoli Analysis\")\n",
    "print(f\"--------------------------\")\n",
    "print(f\"Player Count\")\n",
    "print(f\"Total Number of Players: {player_count}\")\n",
    "print(f\"\")\n",
    "print(f\"Purchasing Analysis (Total)\")\n",
    "print(f\"Number of Unique Items: {number_items}\")\n",
    "print(\"Average Purchase Price: ${:,.3}\".format(average_purchase))\n",
    "print(f\"Total Number of Purchases: {total_num_purchases}\")\n",
    "print(f\"Total Revenue: ${total_rev}\")\n",
    "print(f\"\")\n",
    "print(f\"\")\n",
    "print(f\"\")\n",
    "print(f\"\")\n",
    "print(f\"\")\n",
    "print(f\"\")\n",
    "print(f\"\")\n",
    "print(f\"\")"
   ]
  },
  {
   "cell_type": "code",
   "execution_count": null,
   "metadata": {},
   "outputs": [],
   "source": [
    "#create txt. file with analysis\n",
    "f = open(\"Heroes of Pymoli Analysis.txt\", \"w+\")\n",
    "f.write(\"\"+ \"/n\")\n",
    "f.write(\"Heroes of Pymoli Analysis\")\n",
    "f.write(\"--------------------------\")\n",
    "f.write(\"Player Count\")\n",
    "f.write(f\"Total Number of Players: {player_count}\")\n",
    "f.write(\"\"+ \"/n\")\n",
    "f.write(\"Purchasing Analysis (Total)\")\n",
    "f.write(f\"Number of Unique Items: {number_items}\")\n",
    "f.write(f\"Average Purchase Price: {average_purchase}\")\n",
    "f.write(f\"Total Number of Purchases: {total_num_purchases}\")\n",
    "f.write(f\"Total Revenue: ${total_rev}\")\n",
    "f.write(f)\n",
    "f.write(f)\n",
    "f.write(f)\n",
    "f.write(f)\n",
    "f.write(f)\n",
    "f.write(f)\n",
    "f.write(f)\n",
    "\n",
    "\n"
   ]
  }
 ]
}