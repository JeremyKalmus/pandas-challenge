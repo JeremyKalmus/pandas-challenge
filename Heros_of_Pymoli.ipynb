{
 "metadata": {
  "language_info": {
   "codemirror_mode": {
    "name": "ipython",
    "version": 3
   },
   "file_extension": ".py",
   "mimetype": "text/x-python",
   "name": "python",
   "nbconvert_exporter": "python",
   "pygments_lexer": "ipython3",
   "version": "3.8.5-final"
  },
  "orig_nbformat": 2,
  "kernelspec": {
   "name": "Python 3.8.5 64-bit ('datavizprod': conda)",
   "display_name": "Python 3.8.5 64-bit ('datavizprod': conda)",
   "metadata": {
    "interpreter": {
     "hash": "b029dc0bf375b8998aa9027efd27666008bdbb4778f20a5670bf71af495827aa"
    }
   }
  }
 },
 "nbformat": 4,
 "nbformat_minor": 2,
 "cells": [
  {
   "cell_type": "code",
   "execution_count": 141,
   "metadata": {},
   "outputs": [],
   "source": [
    "#import Dependencies\n",
    "import pandas as pd\n",
    "import os\n"
   ]
  },
  {
   "cell_type": "code",
   "execution_count": 142,
   "metadata": {},
   "outputs": [],
   "source": [
    "#create a varialbe for the file\n",
    "file = \"purchase_data.csv\""
   ]
  },
  {
   "cell_type": "code",
   "execution_count": 143,
   "metadata": {},
   "outputs": [],
   "source": [
    "#import and view the first 5 lines of the data file\n",
    "purchase_data_df = pd.read_csv(file)"
   ]
  },
  {
   "cell_type": "code",
   "execution_count": 144,
   "metadata": {},
   "outputs": [],
   "source": [
    "#get player count\n",
    "#break to a new df with only the data we need\n",
    "player_count_df = purchase_data_df.copy()[\"SN\"]\n",
    "#count unique Screen Names\n",
    "player_count = player_count_df.nunique()\n"
   ]
  },
  {
   "cell_type": "code",
   "execution_count": 145,
   "metadata": {},
   "outputs": [
    {
     "output_type": "execute_result",
     "data": {
      "text/plain": [
       "   Number of Unique Itesm Average Price  Number of Purchases Total Revenus\n",
       "0                     179         $3.05                  780     $2,379.77"
      ],
      "text/html": "<div>\n<style scoped>\n    .dataframe tbody tr th:only-of-type {\n        vertical-align: middle;\n    }\n\n    .dataframe tbody tr th {\n        vertical-align: top;\n    }\n\n    .dataframe thead th {\n        text-align: right;\n    }\n</style>\n<table border=\"1\" class=\"dataframe\">\n  <thead>\n    <tr style=\"text-align: right;\">\n      <th></th>\n      <th>Number of Unique Itesm</th>\n      <th>Average Price</th>\n      <th>Number of Purchases</th>\n      <th>Total Revenus</th>\n    </tr>\n  </thead>\n  <tbody>\n    <tr>\n      <th>0</th>\n      <td>179</td>\n      <td>$3.05</td>\n      <td>780</td>\n      <td>$2,379.77</td>\n    </tr>\n  </tbody>\n</table>\n</div>"
     },
     "metadata": {},
     "execution_count": 145
    }
   ],
   "source": [
    "#Purchasing Analysis(Total)\n",
    "#Number of Unique Items\n",
    "number_items_df = purchase_data_df.copy()[\"Item Name\"]\n",
    "number_items = number_items_df.nunique()\n",
    "\n",
    "#Average Purchase Price\n",
    "average_purcahse_df = purchase_data_df.copy()[\"Price\"]\n",
    "average_purchase = average_purcahse_df.mean()\n",
    "\n",
    "#Total Number of Purchases\n",
    "\n",
    "num_purchases_df = purchase_data_df.copy()[\"Purchase ID\"]\n",
    "num_purchases = num_purchases_df.count()\n",
    "\n",
    "#Total Revenue\n",
    "rev_df = purchase_data_df.copy()[\"Price\"]\n",
    "rev = rev_df.sum()\n",
    "\n",
    "average_purchase = \"${:,.2f}\".format(average_purchase)\n",
    "rev = \"${:,.2f}\".format(rev)\n",
    "purchasing_summary = pd.DataFrame({\n",
    "    \"Number of Unique Itesm\":[number_items], \"Average Price\": [average_purchase], \"Number of Purchases\": num_purchases, \"Total Revenus\": [rev]\n",
    "})\n",
    "purchasing_summary"
   ]
  },
  {
   "cell_type": "code",
   "execution_count": 146,
   "metadata": {},
   "outputs": [
    {
     "output_type": "execute_result",
     "data": {
      "text/plain": [
       "                  Gender  Total Count Percentage of Players\n",
       "0                   Male          484                84.03%\n",
       "1                 Female           81                14.06%\n",
       "2  Other / Non-Disclosed           11                 1.91%"
      ],
      "text/html": "<div>\n<style scoped>\n    .dataframe tbody tr th:only-of-type {\n        vertical-align: middle;\n    }\n\n    .dataframe tbody tr th {\n        vertical-align: top;\n    }\n\n    .dataframe thead th {\n        text-align: right;\n    }\n</style>\n<table border=\"1\" class=\"dataframe\">\n  <thead>\n    <tr style=\"text-align: right;\">\n      <th></th>\n      <th>Gender</th>\n      <th>Total Count</th>\n      <th>Percentage of Players</th>\n    </tr>\n  </thead>\n  <tbody>\n    <tr>\n      <th>0</th>\n      <td>Male</td>\n      <td>484</td>\n      <td>84.03%</td>\n    </tr>\n    <tr>\n      <th>1</th>\n      <td>Female</td>\n      <td>81</td>\n      <td>14.06%</td>\n    </tr>\n    <tr>\n      <th>2</th>\n      <td>Other / Non-Disclosed</td>\n      <td>11</td>\n      <td>1.91%</td>\n    </tr>\n  </tbody>\n</table>\n</div>"
     },
     "metadata": {},
     "execution_count": 146
    }
   ],
   "source": [
    "#Gender Demographics\n",
    "\n",
    "grouped_on_SN = purchase_data_df.copy().drop_duplicates(subset=['SN'])\n",
    "\n",
    "#Percentage and Count of Male Players\n",
    "male_count = grouped_on_SN.loc[purchase_data_df.copy()[\"Gender\"] == 'Male',:].count()\n",
    "male_count = male_count[\"Gender\"]\n",
    "male_percent = male_count/player_count\n",
    "male_percent = \"{:.2%}\".format(male_percent)\n",
    "\n",
    "#Percentage and Count of Female Players\n",
    "female_count = grouped_on_SN.loc[purchase_data_df.copy()[\"Gender\"] == 'Female',:].count()\n",
    "female_count = female_count[\"Gender\"]\n",
    "female_percent = female_count/player_count\n",
    "female_percent = \"{:.2%}\".format(female_percent)\n",
    "\n",
    "#Percentage and Count of Other / Non-Disclosed\n",
    "other_count = grouped_on_SN.loc[purchase_data_df.copy()[\"Gender\"] == 'Other / Non-Disclosed',:].count()\n",
    "other_count = other_count[\"Gender\"]\n",
    "other_percent = other_count/player_count\n",
    "other_percent = \"{:.2%}\".format(other_percent)\n",
    "\n",
    "gender_demo_summary = pd.DataFrame({\n",
    "    \"Gender\":[\"Male\", \"Female\", \"Other / Non-Disclosed\"],\n",
    "    \"Total Count\": [male_count, female_count, other_count],\n",
    "    \"Percentage of Players\": [male_percent, female_percent, other_percent]\n",
    "})\n",
    "\n",
    "gender_demo_summary"
   ]
  },
  {
   "cell_type": "code",
   "execution_count": null,
   "metadata": {},
   "outputs": [],
   "source": []
  },
  {
   "cell_type": "code",
   "execution_count": 147,
   "metadata": {},
   "outputs": [
    {
     "output_type": "execute_result",
     "data": {
      "text/plain": [
       "                  Gender  Number of Purchases Average Purchase Total Purchase  \\\n",
       "0                 Female                  113            $3.20        $361.94   \n",
       "1                   Male                  652            $3.02       $1967.64   \n",
       "2  Other / Non-Disclosed                   15            $3.35         $50.19   \n",
       "\n",
       "  Avg Total Purchase Per Person  \n",
       "0                         $4.47  \n",
       "1                         $4.07  \n",
       "2                         $4.56  "
      ],
      "text/html": "<div>\n<style scoped>\n    .dataframe tbody tr th:only-of-type {\n        vertical-align: middle;\n    }\n\n    .dataframe tbody tr th {\n        vertical-align: top;\n    }\n\n    .dataframe thead th {\n        text-align: right;\n    }\n</style>\n<table border=\"1\" class=\"dataframe\">\n  <thead>\n    <tr style=\"text-align: right;\">\n      <th></th>\n      <th>Gender</th>\n      <th>Number of Purchases</th>\n      <th>Average Purchase</th>\n      <th>Total Purchase</th>\n      <th>Avg Total Purchase Per Person</th>\n    </tr>\n  </thead>\n  <tbody>\n    <tr>\n      <th>0</th>\n      <td>Female</td>\n      <td>113</td>\n      <td>$3.20</td>\n      <td>$361.94</td>\n      <td>$4.47</td>\n    </tr>\n    <tr>\n      <th>1</th>\n      <td>Male</td>\n      <td>652</td>\n      <td>$3.02</td>\n      <td>$1967.64</td>\n      <td>$4.07</td>\n    </tr>\n    <tr>\n      <th>2</th>\n      <td>Other / Non-Disclosed</td>\n      <td>15</td>\n      <td>$3.35</td>\n      <td>$50.19</td>\n      <td>$4.56</td>\n    </tr>\n  </tbody>\n</table>\n</div>"
     },
     "metadata": {},
     "execution_count": 147
    }
   ],
   "source": [
    "#Purchasing Analysis (Gender)\n",
    "#The below each broken by gender\n",
    "gender_grouped_df = purchase_data_df.copy().groupby([\"Gender\"])\n",
    "#Purchase Count\n",
    "purchase_by_gender = gender_grouped_df[\"Purchase ID\"].count()\n",
    "\n",
    "#Average Purchase Price\n",
    "avg_by_gender = gender_grouped_df[\"Price\"].mean()\n",
    "\n",
    "#Total Purchase Value\n",
    "total_by_gender = gender_grouped_df[\"Price\"].sum()\n",
    "\n",
    "#Average Purchase Total per Person by Gender\n",
    "\n",
    "\n",
    "#Summary DF + Formating\n",
    "gender_purchase_summary = pd.DataFrame({\n",
    "    \"Number of Purchases\": purchase_by_gender,\n",
    "    \"Average Purchase\": avg_by_gender, \n",
    "    \"Total Purchase\": total_by_gender\n",
    "})\n",
    "gender_purchase_summary = gender_purchase_summary.merge(gender_demo_summary,how='left', on=\"Gender\")\n",
    "gender_purchase_summary[\"Avg Total Purchase Per Person\"] = gender_purchase_summary[\"Total Purchase\"]/gender_purchase_summary[\"Total Count\"]\n",
    "\n",
    "gender_purchase_summary = gender_purchase_summary[[\"Gender\", \"Number of Purchases\", \"Average Purchase\", \"Total Purchase\",\"Avg Total Purchase Per Person\" ]]\n",
    "gender_purchase_summary[\"Average Purchase\"] = gender_purchase_summary[\"Average Purchase\"].map(\"${:.2f}\".format)\n",
    "gender_purchase_summary[\"Total Purchase\"] = gender_purchase_summary[\"Total Purchase\"].map(\"${:.2f}\".format)\n",
    "gender_purchase_summary[\"Avg Total Purchase Per Person\"] = gender_purchase_summary[\"Avg Total Purchase Per Person\"].map(\"${:.2f}\".format)\n",
    "gender_purchase_summary"
   ]
  },
  {
   "cell_type": "code",
   "execution_count": 148,
   "metadata": {},
   "outputs": [
    {
     "output_type": "execute_result",
     "data": {
      "text/plain": [
       "            Total Count Percentage of Players\n",
       "Age Groups                                   \n",
       "Under 10             17                 2.95%\n",
       "10-14                22                 3.82%\n",
       "15-19               107                18.58%\n",
       "20-24               258                44.79%\n",
       "25-29                77                13.37%\n",
       "30-34                52                 9.03%\n",
       "35-39                31                 5.38%\n",
       "Over 40              12                 2.08%"
      ],
      "text/html": "<div>\n<style scoped>\n    .dataframe tbody tr th:only-of-type {\n        vertical-align: middle;\n    }\n\n    .dataframe tbody tr th {\n        vertical-align: top;\n    }\n\n    .dataframe thead th {\n        text-align: right;\n    }\n</style>\n<table border=\"1\" class=\"dataframe\">\n  <thead>\n    <tr style=\"text-align: right;\">\n      <th></th>\n      <th>Total Count</th>\n      <th>Percentage of Players</th>\n    </tr>\n    <tr>\n      <th>Age Groups</th>\n      <th></th>\n      <th></th>\n    </tr>\n  </thead>\n  <tbody>\n    <tr>\n      <th>Under 10</th>\n      <td>17</td>\n      <td>2.95%</td>\n    </tr>\n    <tr>\n      <th>10-14</th>\n      <td>22</td>\n      <td>3.82%</td>\n    </tr>\n    <tr>\n      <th>15-19</th>\n      <td>107</td>\n      <td>18.58%</td>\n    </tr>\n    <tr>\n      <th>20-24</th>\n      <td>258</td>\n      <td>44.79%</td>\n    </tr>\n    <tr>\n      <th>25-29</th>\n      <td>77</td>\n      <td>13.37%</td>\n    </tr>\n    <tr>\n      <th>30-34</th>\n      <td>52</td>\n      <td>9.03%</td>\n    </tr>\n    <tr>\n      <th>35-39</th>\n      <td>31</td>\n      <td>5.38%</td>\n    </tr>\n    <tr>\n      <th>Over 40</th>\n      <td>12</td>\n      <td>2.08%</td>\n    </tr>\n  </tbody>\n</table>\n</div>"
     },
     "metadata": {},
     "execution_count": 148
    }
   ],
   "source": [
    "#Age Demographics \n",
    "#The below each broken into bins of 4 years (i.e. <10, 10-14, 15-19, etc.)\n",
    "age_bins = [0,9, 14,19, 24, 29,34, 39, 100]\n",
    "age_labels = [\"Under 10\", \"10-14\", \"15-19\", \"20-24\", \"25-29\", \"30-34\", \"35-39\", \"Over 40\"]\n",
    "\n",
    "age_summary_1 = purchase_data_df.copy().drop_duplicates(subset=['SN'])\n",
    "age_summary_1[\"Age Groups\"] = pd.cut(age_summary_1[\"Age\"], age_bins, labels=age_labels)\n",
    "\n",
    "# Number of players by age\n",
    "age_summary_1 = age_summary_1.groupby(\"Age Groups\").count()\n",
    "\n",
    "age_summary_1 = age_summary_1.rename(columns={\"Age\":\"Total Count\"})\n",
    "\n",
    "#Percentage of Players by age\n",
    "age_summary_1[\"Number of Players\"] = player_count\n",
    "age_summary_1[\"Percentage of Players\"] = (age_summary_1[\"Total Count\"]/age_summary_1[\"Number of Players\"])*100\n",
    "age_summary_1[\"Percentage of Players\"] = age_summary_1[\"Percentage of Players\"].map(\"{:.2f}%\".format)\n",
    "age_summary_1 = age_summary_1[[\"Total Count\" ,\"Percentage of Players\"]]\n",
    "age_summary_1"
   ]
  },
  {
   "cell_type": "code",
   "execution_count": 149,
   "metadata": {},
   "outputs": [
    {
     "output_type": "execute_result",
     "data": {
      "text/plain": [
       "            Purchase Count Average Purchase Price Total Purchase Value  \\\n",
       "Age Groups                                                               \n",
       "Under 10                23                  $3.35               $77.13   \n",
       "10-14                   28                  $2.96               $82.78   \n",
       "15-19                  136                  $3.04              $412.89   \n",
       "20-24                  365                  $3.05             $1114.06   \n",
       "25-29                  101                  $2.90              $293.00   \n",
       "30-34                   73                  $2.93              $214.00   \n",
       "35-39                   41                  $3.60              $147.67   \n",
       "Over 40                 13                  $2.94               $38.24   \n",
       "\n",
       "           Avg Total Purchase Per Person  \n",
       "Age Groups                                \n",
       "Under 10                           $4.54  \n",
       "10-14                              $3.76  \n",
       "15-19                              $3.86  \n",
       "20-24                              $4.32  \n",
       "25-29                              $3.81  \n",
       "30-34                              $4.12  \n",
       "35-39                              $4.76  \n",
       "Over 40                            $3.19  "
      ],
      "text/html": "<div>\n<style scoped>\n    .dataframe tbody tr th:only-of-type {\n        vertical-align: middle;\n    }\n\n    .dataframe tbody tr th {\n        vertical-align: top;\n    }\n\n    .dataframe thead th {\n        text-align: right;\n    }\n</style>\n<table border=\"1\" class=\"dataframe\">\n  <thead>\n    <tr style=\"text-align: right;\">\n      <th></th>\n      <th>Purchase Count</th>\n      <th>Average Purchase Price</th>\n      <th>Total Purchase Value</th>\n      <th>Avg Total Purchase Per Person</th>\n    </tr>\n    <tr>\n      <th>Age Groups</th>\n      <th></th>\n      <th></th>\n      <th></th>\n      <th></th>\n    </tr>\n  </thead>\n  <tbody>\n    <tr>\n      <th>Under 10</th>\n      <td>23</td>\n      <td>$3.35</td>\n      <td>$77.13</td>\n      <td>$4.54</td>\n    </tr>\n    <tr>\n      <th>10-14</th>\n      <td>28</td>\n      <td>$2.96</td>\n      <td>$82.78</td>\n      <td>$3.76</td>\n    </tr>\n    <tr>\n      <th>15-19</th>\n      <td>136</td>\n      <td>$3.04</td>\n      <td>$412.89</td>\n      <td>$3.86</td>\n    </tr>\n    <tr>\n      <th>20-24</th>\n      <td>365</td>\n      <td>$3.05</td>\n      <td>$1114.06</td>\n      <td>$4.32</td>\n    </tr>\n    <tr>\n      <th>25-29</th>\n      <td>101</td>\n      <td>$2.90</td>\n      <td>$293.00</td>\n      <td>$3.81</td>\n    </tr>\n    <tr>\n      <th>30-34</th>\n      <td>73</td>\n      <td>$2.93</td>\n      <td>$214.00</td>\n      <td>$4.12</td>\n    </tr>\n    <tr>\n      <th>35-39</th>\n      <td>41</td>\n      <td>$3.60</td>\n      <td>$147.67</td>\n      <td>$4.76</td>\n    </tr>\n    <tr>\n      <th>Over 40</th>\n      <td>13</td>\n      <td>$2.94</td>\n      <td>$38.24</td>\n      <td>$3.19</td>\n    </tr>\n  </tbody>\n</table>\n</div>"
     },
     "metadata": {},
     "execution_count": 149
    }
   ],
   "source": [
    "#Purchasing Analysis(Age)\n",
    "age_count = purchase_data_df.copy()\n",
    "age_count[\"Age Groups\"] = pd.cut(age_count[\"Age\"], age_bins, labels=age_labels)\n",
    "age_count = age_count[['Price', \"Age Groups\"]]\n",
    "#count of Players by age\n",
    "age_count = age_count.groupby(\"Age Groups\").count()\n",
    "age_count = age_count.rename(columns={\"Price\":\"Purchase Count\"})\n",
    "#Average Purchase Price by age\n",
    "age_avg= purchase_data_df.copy()\n",
    "age_avg[\"Age Groups\"] = pd.cut(age_avg[\"Age\"], age_bins, labels=age_labels)\n",
    "age_avg = age_avg.groupby(\"Age Groups\").mean()\n",
    "age_avg= age_avg.rename(columns={\"Price\":\"Average Purchase Price\"})\n",
    "\n",
    "#Total Purchase Value by age\n",
    "age_total = purchase_data_df.copy()\n",
    "age_total[\"Age Groups\"] = pd.cut(age_total[\"Age\"], age_bins, labels=age_labels)\n",
    "age_total = age_total.groupby(\"Age Groups\").sum()\n",
    "age_total= age_total.rename(columns={\"Price\":\"Total Purchase Value\"})\n",
    "\n",
    "#merge to new df\n",
    "age_summary_2 = pd.merge(age_count, age_avg, how='left', on=\"Age Groups\")\n",
    "age_summary_2 = age_summary_2[[\"Purchase Count\", \"Average Purchase Price\"]]\n",
    "age_summary_2 = age_summary_2.merge(age_total,how='left', on=\"Age Groups\")\n",
    "age_summary_2 = age_summary_2[[\"Purchase Count\", \"Average Purchase Price\", \"Total Purchase Value\"]]\n",
    "\n",
    "\n",
    "\n",
    "#Average Purchase Total per Person by Age Group by age\n",
    "age_summary_2 = age_summary_2.merge(age_summary_1.copy(), how='left', on=\"Age Groups\")\n",
    "age_summary_2[\"Avg Total Purchase Per Person\"] = age_summary_2[\"Total Purchase Value\"]/age_summary_2[\"Total Count\"]\n",
    "age_summary_2 = age_summary_2[[\"Purchase Count\", \"Average Purchase Price\", \"Total Purchase Value\", \"Avg Total Purchase Per Person\"]]\n",
    "\n",
    "#formatting\n",
    "age_summary_2[\"Average Purchase Price\"]= age_summary_2[\"Average Purchase Price\"].map(\"${:.2f}\".format)\n",
    "age_summary_2[\"Total Purchase Value\"]= age_summary_2[\"Total Purchase Value\"].map(\"${:.2f}\".format)\n",
    "\n",
    "age_summary_2[\"Avg Total Purchase Per Person\"] = age_summary_2[\"Avg Total Purchase Per Person\"].map(\"${:.2f}\".format)\n",
    "\n",
    "\n",
    "\n",
    "age_summary_2\n"
   ]
  },
  {
   "cell_type": "code",
   "execution_count": 150,
   "metadata": {},
   "outputs": [
    {
     "output_type": "execute_result",
     "data": {
      "text/plain": [
       "             Purchase ID Average Purchase Price Total Purchase Value\n",
       "SN                                                                  \n",
       "Lisosia93              5                  $3.79               $18.96\n",
       "Iral74                 4                  $3.40               $13.62\n",
       "Idastidru52            4                  $3.86               $15.45\n",
       "Asur53                 3                  $2.48                $7.44\n",
       "Inguron55              3                  $3.70               $11.11"
      ],
      "text/html": "<div>\n<style scoped>\n    .dataframe tbody tr th:only-of-type {\n        vertical-align: middle;\n    }\n\n    .dataframe tbody tr th {\n        vertical-align: top;\n    }\n\n    .dataframe thead th {\n        text-align: right;\n    }\n</style>\n<table border=\"1\" class=\"dataframe\">\n  <thead>\n    <tr style=\"text-align: right;\">\n      <th></th>\n      <th>Purchase ID</th>\n      <th>Average Purchase Price</th>\n      <th>Total Purchase Value</th>\n    </tr>\n    <tr>\n      <th>SN</th>\n      <th></th>\n      <th></th>\n      <th></th>\n    </tr>\n  </thead>\n  <tbody>\n    <tr>\n      <th>Lisosia93</th>\n      <td>5</td>\n      <td>$3.79</td>\n      <td>$18.96</td>\n    </tr>\n    <tr>\n      <th>Iral74</th>\n      <td>4</td>\n      <td>$3.40</td>\n      <td>$13.62</td>\n    </tr>\n    <tr>\n      <th>Idastidru52</th>\n      <td>4</td>\n      <td>$3.86</td>\n      <td>$15.45</td>\n    </tr>\n    <tr>\n      <th>Asur53</th>\n      <td>3</td>\n      <td>$2.48</td>\n      <td>$7.44</td>\n    </tr>\n    <tr>\n      <th>Inguron55</th>\n      <td>3</td>\n      <td>$3.70</td>\n      <td>$11.11</td>\n    </tr>\n  </tbody>\n</table>\n</div>"
     },
     "metadata": {},
     "execution_count": 150
    }
   ],
   "source": [
    "\n",
    "#Identify the the top 5 spenders in the game by total purchase value, then list (in a table):\n",
    "top_spend = purchase_data_df.copy()\n",
    "top_spend_grouped = top_spend.groupby('SN')\n",
    "#SN & Purchase Count\n",
    "top_spend_summary = top_spend_grouped.count().sort_values(by=\"Purchase ID\", ascending=False)\n",
    "top_spend_summary = top_spend_summary[[\"Purchase ID\"]]\n",
    "#Average Purchase Price\n",
    "top_spend_avg = top_spend_grouped.mean()\n",
    "top_spend_avg = top_spend_avg[[\"Price\"]].rename(columns={\"Price\": \"Average Purchase Price\"})\n",
    "\n",
    "top_spend_summary = top_spend_summary.merge(top_spend_avg, on=\"SN\", how=\"left\")\n",
    "\n",
    "#Total Purchase Value\n",
    "top_spend_total = top_spend_grouped.sum()\n",
    "top_spend_total = top_spend_total[[\"Price\"]].rename(columns={\"Price\":'Total Purchase Value'})\n",
    "\n",
    "top_spend_summary = top_spend_summary.merge(top_spend_total, on=\"SN\", how=\"left\")\n",
    "\n",
    "#Summary and Formatting\n",
    "top_spend_summary = top_spend_summary.head(5)\n",
    "top_spend_summary[\"Average Purchase Price\"] = top_spend_summary[\"Average Purchase Price\"].map(\"${:.2f}\".format)\n",
    "top_spend_summary[\"Total Purchase Value\"] = top_spend_summary[\"Total Purchase Value\"].map(\"${:.2f}\".format)\n",
    "\n",
    "top_spend_summary\n",
    "\n",
    "\n",
    "\n",
    "\n"
   ]
  },
  {
   "cell_type": "code",
   "execution_count": 160,
   "metadata": {},
   "outputs": [
    {
     "output_type": "execute_result",
     "data": {
      "text/plain": [
       "                                              Purchase Count Item Price  \\\n",
       "Item Name                                                                 \n",
       "Final Critic                                              13      $4.61   \n",
       "Oathbreaker, Last Hope of the Breaking Storm              12      $4.23   \n",
       "Persuasion                                                 9      $3.22   \n",
       "Nirvana                                                    9      $4.90   \n",
       "Extraction, Quickblade Of Trembling Hands                  9      $3.53   \n",
       "Fiery Glass Crusader                                       9      $4.58   \n",
       "\n",
       "                                             Total Purchase Value  \n",
       "Item Name                                                          \n",
       "Final Critic                                               $59.99  \n",
       "Oathbreaker, Last Hope of the Breaking Storm               $50.76  \n",
       "Persuasion                                                 $28.99  \n",
       "Nirvana                                                    $44.10  \n",
       "Extraction, Quickblade Of Trembling Hands                  $31.77  \n",
       "Fiery Glass Crusader                                       $41.22  "
      ],
      "text/html": "<div>\n<style scoped>\n    .dataframe tbody tr th:only-of-type {\n        vertical-align: middle;\n    }\n\n    .dataframe tbody tr th {\n        vertical-align: top;\n    }\n\n    .dataframe thead th {\n        text-align: right;\n    }\n</style>\n<table border=\"1\" class=\"dataframe\">\n  <thead>\n    <tr style=\"text-align: right;\">\n      <th></th>\n      <th>Purchase Count</th>\n      <th>Item Price</th>\n      <th>Total Purchase Value</th>\n    </tr>\n    <tr>\n      <th>Item Name</th>\n      <th></th>\n      <th></th>\n      <th></th>\n    </tr>\n  </thead>\n  <tbody>\n    <tr>\n      <th>Final Critic</th>\n      <td>13</td>\n      <td>$4.61</td>\n      <td>$59.99</td>\n    </tr>\n    <tr>\n      <th>Oathbreaker, Last Hope of the Breaking Storm</th>\n      <td>12</td>\n      <td>$4.23</td>\n      <td>$50.76</td>\n    </tr>\n    <tr>\n      <th>Persuasion</th>\n      <td>9</td>\n      <td>$3.22</td>\n      <td>$28.99</td>\n    </tr>\n    <tr>\n      <th>Nirvana</th>\n      <td>9</td>\n      <td>$4.90</td>\n      <td>$44.10</td>\n    </tr>\n    <tr>\n      <th>Extraction, Quickblade Of Trembling Hands</th>\n      <td>9</td>\n      <td>$3.53</td>\n      <td>$31.77</td>\n    </tr>\n    <tr>\n      <th>Fiery Glass Crusader</th>\n      <td>9</td>\n      <td>$4.58</td>\n      <td>$41.22</td>\n    </tr>\n  </tbody>\n</table>\n</div>"
     },
     "metadata": {},
     "execution_count": 160
    }
   ],
   "source": [
    "#Identify the 5 most popular items by purchase count, then list (in a table):\n",
    "most_pop = purchase_data_df.copy()\n",
    "most_pop_grouped = most_pop.groupby(\"Item Name\")\n",
    "\n",
    "#Item ID\n",
    "#Item Name\n",
    "#Purchase Count\n",
    "most_pop_summary = most_pop_grouped.count()\n",
    "#Total Purchase Value\n",
    "most_pop_price = most_pop_grouped.sum()\n",
    "\n",
    "#Item Price\n",
    "most_pop_summary = most_pop_summary.merge(most_pop_price, on=\"Item Name\", how=\"left\")\n",
    "most_pop_summary = most_pop_summary[[\"SN\", \"Price_y\"]]\n",
    "most_pop_summary[\"Item Price\"] = most_pop_summary[\"Price_y\"]/most_pop_summary[\"SN\"]\n",
    "\n",
    "#Rearrange and Formating\n",
    "most_pop_summary = most_pop_summary[[\"SN\",\"Item Price\", \"Price_y\"]]\n",
    "most_pop_summary = most_pop_summary.rename(columns={\"SN\": \"Purchase Count\", \"Price_y\":\"Total Purchase Value\"} )\n",
    "\n",
    "most_pop_summary_count = most_pop_summary.sort_values(by=\"Purchase Count\", ascending=False)\n",
    "most_pop_summary_count[\"Item Price\"] = most_pop_summary[\"Item Price\"].map(\"${:.2f}\".format)\n",
    "most_pop_summary_count[\"Total Purchase Value\"] = most_pop_summary[\"Total Purchase Value\"].map(\"${:.2f}\".format) \n",
    "most_pop_summary_count = most_pop_summary_count.head(6)\n",
    "most_pop_summary_count\n"
   ]
  },
  {
   "cell_type": "code",
   "execution_count": 166,
   "metadata": {},
   "outputs": [
    {
     "output_type": "execute_result",
     "data": {
      "text/plain": [
       "                                              Purchase Count Item Price  \\\n",
       "Item Name                                                                 \n",
       "Final Critic                                              13      $4.61   \n",
       "Oathbreaker, Last Hope of the Breaking Storm              12      $4.23   \n",
       "Nirvana                                                    9      $4.90   \n",
       "Fiery Glass Crusader                                       9      $4.58   \n",
       "Singed Scalpel                                             8      $4.35   \n",
       "\n",
       "                                             Total Purchase Value  \n",
       "Item Name                                                          \n",
       "Final Critic                                               $59.99  \n",
       "Oathbreaker, Last Hope of the Breaking Storm               $50.76  \n",
       "Nirvana                                                    $44.10  \n",
       "Fiery Glass Crusader                                       $41.22  \n",
       "Singed Scalpel                                             $34.80  "
      ],
      "text/html": "<div>\n<style scoped>\n    .dataframe tbody tr th:only-of-type {\n        vertical-align: middle;\n    }\n\n    .dataframe tbody tr th {\n        vertical-align: top;\n    }\n\n    .dataframe thead th {\n        text-align: right;\n    }\n</style>\n<table border=\"1\" class=\"dataframe\">\n  <thead>\n    <tr style=\"text-align: right;\">\n      <th></th>\n      <th>Purchase Count</th>\n      <th>Item Price</th>\n      <th>Total Purchase Value</th>\n    </tr>\n    <tr>\n      <th>Item Name</th>\n      <th></th>\n      <th></th>\n      <th></th>\n    </tr>\n  </thead>\n  <tbody>\n    <tr>\n      <th>Final Critic</th>\n      <td>13</td>\n      <td>$4.61</td>\n      <td>$59.99</td>\n    </tr>\n    <tr>\n      <th>Oathbreaker, Last Hope of the Breaking Storm</th>\n      <td>12</td>\n      <td>$4.23</td>\n      <td>$50.76</td>\n    </tr>\n    <tr>\n      <th>Nirvana</th>\n      <td>9</td>\n      <td>$4.90</td>\n      <td>$44.10</td>\n    </tr>\n    <tr>\n      <th>Fiery Glass Crusader</th>\n      <td>9</td>\n      <td>$4.58</td>\n      <td>$41.22</td>\n    </tr>\n    <tr>\n      <th>Singed Scalpel</th>\n      <td>8</td>\n      <td>$4.35</td>\n      <td>$34.80</td>\n    </tr>\n  </tbody>\n</table>\n</div>"
     },
     "metadata": {},
     "execution_count": 166
    }
   ],
   "source": [
    "#Identify the 5 most profitable items by total purchase value, then list (in a table):\n",
    "#Item ID\n",
    "#Item Name\n",
    "#Purchase Count\n",
    "#Item Price\n",
    "#Total Purchase Value\n",
    "most_pop_summary_profit = most_pop_summary.sort_values(by=\"Total Purchase Value\", ascending=False)\n",
    "most_pop_summary_profit = most_pop_summary_profit.head(5)\n",
    "most_pop_summary_profit[\"Item Price\"] = most_pop_summary_profit[\"Item Price\"].map(\"${:.2f}\".format)\n",
    "most_pop_summary_profit[\"Total Purchase Value\"] = most_pop_summary_profit[\"Total Purchase Value\"].map(\"${:.2f}\".format) \n",
    "most_pop_summary_profit"
   ]
  },
  {
   "cell_type": "code",
   "execution_count": null,
   "metadata": {},
   "outputs": [],
   "source": []
  },
  {
   "cell_type": "code",
   "execution_count": null,
   "metadata": {},
   "outputs": [],
   "source": []
  },
  {
   "cell_type": "code",
   "execution_count": null,
   "metadata": {},
   "outputs": [],
   "source": []
  },
  {
   "cell_type": "code",
   "execution_count": null,
   "metadata": {},
   "outputs": [],
   "source": []
  }
 ]
}