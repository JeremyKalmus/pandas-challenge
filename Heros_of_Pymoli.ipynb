{
 "metadata": {
  "language_info": {
   "codemirror_mode": {
    "name": "ipython",
    "version": 3
   },
   "file_extension": ".py",
   "mimetype": "text/x-python",
   "name": "python",
   "nbconvert_exporter": "python",
   "pygments_lexer": "ipython3",
   "version": "3.8.5-final"
  },
  "orig_nbformat": 2,
  "kernelspec": {
   "name": "Python 3.8.5 64-bit ('datavizprod': conda)",
   "display_name": "Python 3.8.5 64-bit ('datavizprod': conda)",
   "metadata": {
    "interpreter": {
     "hash": "b029dc0bf375b8998aa9027efd27666008bdbb4778f20a5670bf71af495827aa"
    }
   }
  }
 },
 "nbformat": 4,
 "nbformat_minor": 2,
 "cells": [
  {
   "cell_type": "code",
   "execution_count": 120,
   "metadata": {},
   "outputs": [],
   "source": [
    "#import Dependencies\n",
    "import pandas as pd\n",
    "import os\n"
   ]
  },
  {
   "cell_type": "code",
   "execution_count": 121,
   "metadata": {},
   "outputs": [],
   "source": [
    "#create a varialbe for the file\n",
    "file = \"purchase_data.csv\""
   ]
  },
  {
   "cell_type": "code",
   "execution_count": 122,
   "metadata": {},
   "outputs": [],
   "source": [
    "#import and view the first 5 lines of the data file\n",
    "purchase_data_df = pd.read_csv(file)"
   ]
  },
  {
   "cell_type": "code",
   "execution_count": 123,
   "metadata": {},
   "outputs": [],
   "source": [
    "#get player count\n",
    "#break to a new df with only the data we need\n",
    "player_count_df = purchase_data_df.copy()[\"SN\"]\n",
    "#count unique Screen Names\n",
    "player_count = player_count_df.nunique()\n"
   ]
  },
  {
   "cell_type": "code",
   "execution_count": 124,
   "metadata": {},
   "outputs": [
    {
     "output_type": "execute_result",
     "data": {
      "text/plain": [
       "   Number of Unique Itesm Average Price  Number of Purchases Total Revenus\n",
       "0                     179         $3.05                  780     $2,379.77"
      ],
      "text/html": "<div>\n<style scoped>\n    .dataframe tbody tr th:only-of-type {\n        vertical-align: middle;\n    }\n\n    .dataframe tbody tr th {\n        vertical-align: top;\n    }\n\n    .dataframe thead th {\n        text-align: right;\n    }\n</style>\n<table border=\"1\" class=\"dataframe\">\n  <thead>\n    <tr style=\"text-align: right;\">\n      <th></th>\n      <th>Number of Unique Itesm</th>\n      <th>Average Price</th>\n      <th>Number of Purchases</th>\n      <th>Total Revenus</th>\n    </tr>\n  </thead>\n  <tbody>\n    <tr>\n      <th>0</th>\n      <td>179</td>\n      <td>$3.05</td>\n      <td>780</td>\n      <td>$2,379.77</td>\n    </tr>\n  </tbody>\n</table>\n</div>"
     },
     "metadata": {},
     "execution_count": 124
    }
   ],
   "source": [
    "#Purchasing Analysis(Total)\n",
    "#Number of Unique Items\n",
    "number_items_df = purchase_data_df.copy()[\"Item Name\"]\n",
    "number_items = number_items_df.nunique()\n",
    "\n",
    "#Average Purchase Price\n",
    "average_purcahse_df = purchase_data_df.copy()[\"Price\"]\n",
    "average_purchase = average_purcahse_df.mean()\n",
    "\n",
    "#Total Number of Purchases\n",
    "\n",
    "num_purchases_df = purchase_data_df.copy()[\"Purchase ID\"]\n",
    "num_purchases = num_purchases_df.count()\n",
    "\n",
    "#Total Revenue\n",
    "rev_df = purchase_data_df.copy()[\"Price\"]\n",
    "rev = rev_df.sum()\n",
    "\n",
    "average_purchase = \"${:,.2f}\".format(average_purchase)\n",
    "rev = \"${:,.2f}\".format(rev)\n",
    "purchasing_summary = pd.DataFrame({\n",
    "    \"Number of Unique Itesm\":[number_items], \"Average Price\": [average_purchase], \"Number of Purchases\": num_purchases, \"Total Revenus\": [rev]\n",
    "})\n",
    "purchasing_summary"
   ]
  },
  {
   "cell_type": "code",
   "execution_count": 125,
   "metadata": {},
   "outputs": [
    {
     "output_type": "execute_result",
     "data": {
      "text/plain": [
       "                  Gender  Total Count Percentage of Players\n",
       "0                   Male          484                84.03%\n",
       "1                 Female           81                14.06%\n",
       "2  Other / Non-Disclosed           11                 1.91%"
      ],
      "text/html": "<div>\n<style scoped>\n    .dataframe tbody tr th:only-of-type {\n        vertical-align: middle;\n    }\n\n    .dataframe tbody tr th {\n        vertical-align: top;\n    }\n\n    .dataframe thead th {\n        text-align: right;\n    }\n</style>\n<table border=\"1\" class=\"dataframe\">\n  <thead>\n    <tr style=\"text-align: right;\">\n      <th></th>\n      <th>Gender</th>\n      <th>Total Count</th>\n      <th>Percentage of Players</th>\n    </tr>\n  </thead>\n  <tbody>\n    <tr>\n      <th>0</th>\n      <td>Male</td>\n      <td>484</td>\n      <td>84.03%</td>\n    </tr>\n    <tr>\n      <th>1</th>\n      <td>Female</td>\n      <td>81</td>\n      <td>14.06%</td>\n    </tr>\n    <tr>\n      <th>2</th>\n      <td>Other / Non-Disclosed</td>\n      <td>11</td>\n      <td>1.91%</td>\n    </tr>\n  </tbody>\n</table>\n</div>"
     },
     "metadata": {},
     "execution_count": 125
    }
   ],
   "source": [
    "#Gender Demographics\n",
    "\n",
    "grouped_on_SN = purchase_data_df.copy().drop_duplicates(subset=['SN'])\n",
    "\n",
    "#Percentage and Count of Male Players\n",
    "male_count = grouped_on_SN.loc[purchase_data_df.copy()[\"Gender\"] == 'Male',:].count()\n",
    "male_count = male_count[\"Gender\"]\n",
    "male_percent = male_count/player_count\n",
    "male_percent = \"{:.2%}\".format(male_percent)\n",
    "\n",
    "#Percentage and Count of Female Players\n",
    "female_count = grouped_on_SN.loc[purchase_data_df.copy()[\"Gender\"] == 'Female',:].count()\n",
    "female_count = female_count[\"Gender\"]\n",
    "female_percent = female_count/player_count\n",
    "female_percent = \"{:.2%}\".format(female_percent)\n",
    "\n",
    "#Percentage and Count of Other / Non-Disclosed\n",
    "other_count = grouped_on_SN.loc[purchase_data_df.copy()[\"Gender\"] == 'Other / Non-Disclosed',:].count()\n",
    "other_count = other_count[\"Gender\"]\n",
    "other_percent = other_count/player_count\n",
    "other_percent = \"{:.2%}\".format(other_percent)\n",
    "\n",
    "gender_demo_summary = pd.DataFrame({\n",
    "    \"Gender\":[\"Male\", \"Female\", \"Other / Non-Disclosed\"],\n",
    "    \"Total Count\": [male_count, female_count, other_count],\n",
    "    \"Percentage of Players\": [male_percent, female_percent, other_percent]\n",
    "})\n",
    "\n",
    "gender_demo_summary"
   ]
  },
  {
   "cell_type": "code",
   "execution_count": null,
   "metadata": {},
   "outputs": [],
   "source": []
  },
  {
   "cell_type": "code",
   "execution_count": 134,
   "metadata": {},
   "outputs": [
    {
     "output_type": "execute_result",
     "data": {
      "text/plain": [
       "                  Gender  Number of Purchases Average Purchase Total Purchase  \\\n",
       "0                 Female                  113            $3.20        $361.94   \n",
       "1                   Male                  652            $3.02       $1967.64   \n",
       "2  Other / Non-Disclosed                   15            $3.35         $50.19   \n",
       "\n",
       "  Avg Total Purchase Per Person  \n",
       "0                         $4.47  \n",
       "1                         $4.07  \n",
       "2                         $4.56  "
      ],
      "text/html": "<div>\n<style scoped>\n    .dataframe tbody tr th:only-of-type {\n        vertical-align: middle;\n    }\n\n    .dataframe tbody tr th {\n        vertical-align: top;\n    }\n\n    .dataframe thead th {\n        text-align: right;\n    }\n</style>\n<table border=\"1\" class=\"dataframe\">\n  <thead>\n    <tr style=\"text-align: right;\">\n      <th></th>\n      <th>Gender</th>\n      <th>Number of Purchases</th>\n      <th>Average Purchase</th>\n      <th>Total Purchase</th>\n      <th>Avg Total Purchase Per Person</th>\n    </tr>\n  </thead>\n  <tbody>\n    <tr>\n      <th>0</th>\n      <td>Female</td>\n      <td>113</td>\n      <td>$3.20</td>\n      <td>$361.94</td>\n      <td>$4.47</td>\n    </tr>\n    <tr>\n      <th>1</th>\n      <td>Male</td>\n      <td>652</td>\n      <td>$3.02</td>\n      <td>$1967.64</td>\n      <td>$4.07</td>\n    </tr>\n    <tr>\n      <th>2</th>\n      <td>Other / Non-Disclosed</td>\n      <td>15</td>\n      <td>$3.35</td>\n      <td>$50.19</td>\n      <td>$4.56</td>\n    </tr>\n  </tbody>\n</table>\n</div>"
     },
     "metadata": {},
     "execution_count": 134
    }
   ],
   "source": [
    "#Purchasing Analysis (Gender)\n",
    "#The below each broken by gender\n",
    "gender_grouped_df = purchase_data_df.copy().groupby([\"Gender\"])\n",
    "#Purchase Count\n",
    "purchase_by_gender = gender_grouped_df[\"Purchase ID\"].count()\n",
    "\n",
    "#Average Purchase Price\n",
    "avg_by_gender = gender_grouped_df[\"Price\"].mean()\n",
    "\n",
    "#Total Purchase Value\n",
    "total_by_gender = gender_grouped_df[\"Price\"].sum()\n",
    "\n",
    "#Average Purchase Total per Person by Gender\n",
    "\n",
    "\n",
    "\n",
    "\n",
    "\n",
    "\n",
    "#Summary DF + Formating\n",
    "gender_purchase_summary = pd.DataFrame({\n",
    "    \"Number of Purchases\": purchase_by_gender,\n",
    "    \"Average Purchase\": avg_by_gender, \n",
    "    \"Total Purchase\": total_by_gender\n",
    "})\n",
    "gender_purchase_summary = gender_purchase_summary.merge(gender_demo_summary,how='left', on=\"Gender\")\n",
    "gender_purchase_summary[\"Avg Total Purchase Per Person\"] = gender_purchase_summary[\"Total Purchase\"]/gender_purchase_summary[\"Total Count\"]\n",
    "\n",
    "gender_purchase_summary = gender_purchase_summary[[\"Gender\", \"Number of Purchases\", \"Average Purchase\", \"Total Purchase\",\"Avg Total Purchase Per Person\" ]]\n",
    "gender_purchase_summary[\"Average Purchase\"] = gender_purchase_summary[\"Average Purchase\"].map(\"${:.2f}\".format)\n",
    "gender_purchase_summary[\"Total Purchase\"] = gender_purchase_summary[\"Total Purchase\"].map(\"${:.2f}\".format)\n",
    "gender_purchase_summary[\"Avg Total Purchase Per Person\"] = gender_purchase_summary[\"Avg Total Purchase Per Person\"].map(\"${:.2f}\".format)\n",
    "gender_purchase_summary"
   ]
  },
  {
   "cell_type": "code",
   "execution_count": 175,
   "metadata": {},
   "outputs": [
    {
     "output_type": "execute_result",
     "data": {
      "text/plain": [
       "            Total Count Percentage of Players\n",
       "age_groups                                   \n",
       "Under 10             17                 2.95%\n",
       "10-14                22                 3.82%\n",
       "15-19               107                18.58%\n",
       "20-24               258                44.79%\n",
       "25-29                77                13.37%\n",
       "30-34                52                 9.03%\n",
       "35-39                31                 5.38%\n",
       "Over 40              12                 2.08%"
      ],
      "text/html": "<div>\n<style scoped>\n    .dataframe tbody tr th:only-of-type {\n        vertical-align: middle;\n    }\n\n    .dataframe tbody tr th {\n        vertical-align: top;\n    }\n\n    .dataframe thead th {\n        text-align: right;\n    }\n</style>\n<table border=\"1\" class=\"dataframe\">\n  <thead>\n    <tr style=\"text-align: right;\">\n      <th></th>\n      <th>Total Count</th>\n      <th>Percentage of Players</th>\n    </tr>\n    <tr>\n      <th>age_groups</th>\n      <th></th>\n      <th></th>\n    </tr>\n  </thead>\n  <tbody>\n    <tr>\n      <th>Under 10</th>\n      <td>17</td>\n      <td>2.95%</td>\n    </tr>\n    <tr>\n      <th>10-14</th>\n      <td>22</td>\n      <td>3.82%</td>\n    </tr>\n    <tr>\n      <th>15-19</th>\n      <td>107</td>\n      <td>18.58%</td>\n    </tr>\n    <tr>\n      <th>20-24</th>\n      <td>258</td>\n      <td>44.79%</td>\n    </tr>\n    <tr>\n      <th>25-29</th>\n      <td>77</td>\n      <td>13.37%</td>\n    </tr>\n    <tr>\n      <th>30-34</th>\n      <td>52</td>\n      <td>9.03%</td>\n    </tr>\n    <tr>\n      <th>35-39</th>\n      <td>31</td>\n      <td>5.38%</td>\n    </tr>\n    <tr>\n      <th>Over 40</th>\n      <td>12</td>\n      <td>2.08%</td>\n    </tr>\n  </tbody>\n</table>\n</div>"
     },
     "metadata": {},
     "execution_count": 175
    }
   ],
   "source": [
    "#Age Demographics\n",
    "#The below each broken into bins of 4 years (i.e. <10, 10-14, 15-19, etc.)\n",
    "age_bins = [0,9, 14,19, 24, 29,34, 39, 100]\n",
    "age_labels = [\"Under 10\", \"10-14\", \"15-19\", \"20-24\", \"25-29\", \"30-34\", \"35-39\", \"Over 40\"]\n",
    "\n",
    "age_df = purchase_data_df.copy().drop_duplicates(subset=['SN'])\n",
    "age_df[\"age_groups\"] = pd.cut(age_df[\"Age\"], age_bins, labels=age_labels)\n",
    "\n",
    "#Purchase Count\n",
    "age_count = age_df.groupby(\"age_groups\").count()\n",
    "\n",
    "age_count = age_count.rename(columns={\"Age\":\"Total Count\"})\n",
    "age_count\n",
    "#Percentage of Players\n",
    "age_count[\"Number of Players\"] = player_count\n",
    "age_count[\"Percentage of Players\"] = (age_count[\"Total Count\"]/age_count[\"Number of Players\"])*100\n",
    "age_count[\"Percentage of Players\"] = age_count[\"Percentage of Players\"].map(\"{:.2f}%\".format)\n",
    "age_count = age_count[['Total Count',\"Percentage of Players\"]]\n",
    "age_count"
   ]
  },
  {
   "cell_type": "code",
   "execution_count": null,
   "metadata": {},
   "outputs": [],
   "source": [
    "#Average Purchase Price\n",
    "\n",
    "#Total Purchase Value\n",
    "\n",
    "#Average Purchase Total per Person by Age Group\n"
   ]
  },
  {
   "cell_type": "code",
   "execution_count": null,
   "metadata": {},
   "outputs": [],
   "source": []
  },
  {
   "cell_type": "code",
   "execution_count": null,
   "metadata": {},
   "outputs": [],
   "source": []
  },
  {
   "cell_type": "code",
   "execution_count": null,
   "metadata": {},
   "outputs": [],
   "source": []
  },
  {
   "cell_type": "code",
   "execution_count": null,
   "metadata": {},
   "outputs": [],
   "source": []
  },
  {
   "cell_type": "code",
   "execution_count": null,
   "metadata": {},
   "outputs": [],
   "source": []
  },
  {
   "cell_type": "code",
   "execution_count": null,
   "metadata": {},
   "outputs": [],
   "source": []
  },
  {
   "cell_type": "code",
   "execution_count": null,
   "metadata": {},
   "outputs": [],
   "source": []
  },
  {
   "cell_type": "code",
   "execution_count": null,
   "metadata": {},
   "outputs": [],
   "source": []
  }
 ]
}